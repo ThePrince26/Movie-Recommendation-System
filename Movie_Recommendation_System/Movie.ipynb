{
 "cells": [
  {
   "attachments": {},
   "cell_type": "markdown",
   "metadata": {},
   "source": [
    "## Libraries"
   ]
  },
  {
   "cell_type": "code",
   "execution_count": 1,
   "metadata": {},
   "outputs": [],
   "source": [
    "import pandas as pd\n",
    "from pandas import DataFrame \n",
    "import numpy as np"
   ]
  },
  {
   "cell_type": "code",
   "execution_count": 2,
   "metadata": {},
   "outputs": [
    {
     "name": "stderr",
     "output_type": "stream",
     "text": [
      "C:\\Users\\Augustin\\AppData\\Local\\Temp\\ipykernel_8744\\3378795966.py:1: DtypeWarning: Columns (10) have mixed types. Specify dtype option on import or set low_memory=False.\n",
      "  data_df = pd.read_csv(r'movies_metadata.csv')\n"
     ]
    }
   ],
   "source": [
    "data_df = pd.read_csv(r'movies_metadata.csv')\n",
    "\n",
    "#data_df = data_df.head(20000)\n",
    "#display(data_df)\n"
   ]
  },
  {
   "attachments": {},
   "cell_type": "markdown",
   "metadata": {},
   "source": [
    "## Prepocess the data "
   ]
  },
  {
   "cell_type": "code",
   "execution_count": 3,
   "metadata": {},
   "outputs": [
    {
     "name": "stdout",
     "output_type": "stream",
     "text": [
      "<class 'pandas.core.frame.DataFrame'>\n",
      "RangeIndex: 45466 entries, 0 to 45465\n",
      "Data columns (total 10 columns):\n",
      " #   Column             Non-Null Count  Dtype \n",
      "---  ------             --------------  ----- \n",
      " 0   genres             45466 non-null  object\n",
      " 1   id                 45466 non-null  object\n",
      " 2   original_language  45466 non-null  object\n",
      " 3   overview           45466 non-null  object\n",
      " 4   popularity         45466 non-null  object\n",
      " 5   release_date       45466 non-null  object\n",
      " 6   revenue            45466 non-null  object\n",
      " 7   runtime            45466 non-null  object\n",
      " 8   title              45466 non-null  object\n",
      " 9   vote_average       45466 non-null  object\n",
      "dtypes: object(10)\n",
      "memory usage: 3.5+ MB\n",
      "None\n"
     ]
    },
    {
     "name": "stderr",
     "output_type": "stream",
     "text": [
      "C:\\Users\\Augustin\\AppData\\Local\\Temp\\ipykernel_8744\\266579804.py:18: FutureWarning: As the xlwt package is no longer maintained, the xlwt engine will be removed in a future version of pandas. This is the only engine in pandas that supports writing in the xls format. Install openpyxl and write to an xlsx file instead. You can set the option io.excel.xls.writer to 'xlwt' to silence this warning. While this option is deprecated and will also raise a warning, it can be globally set and the warning suppressed.\n",
      "  data_df.to_excel('testxls.xls')\n"
     ]
    }
   ],
   "source": [
    "import string\n",
    "from nltk.corpus import stopwords\n",
    "from nltk.tokenize import word_tokenize\n",
    "\n",
    "data_df = data_df.fillna('')\n",
    "data_df = data_df.drop(['adult', 'belongs_to_collection', 'budget', 'homepage', 'imdb_id', 'original_title', 'poster_path', 'production_companies', 'production_countries', 'spoken_languages', 'status', 'tagline', 'video', 'vote_count'], axis=1)\n",
    "#data_df = data_df.dropna()\n",
    "print(data_df.info())\n",
    "\n",
    "stop_words = set(stopwords.words('english'))\n",
    "\n",
    "def preprocess_title(title):\n",
    "    title = title.translate(str.maketrans('', '', string.punctuation)).lower()\n",
    "    words = word_tokenize(title)\n",
    "    words = [word for word in words if not word in stop_words]\n",
    "    return ' '.join(words)\n",
    "data_df['preprocessed_title'] = data_df['title'].apply(preprocess_title)\n",
    "data_df.to_excel('testxls.xls')"
   ]
  },
  {
   "attachments": {},
   "cell_type": "markdown",
   "metadata": {},
   "source": [
    "## Show Duplicate movies"
   ]
  },
  {
   "cell_type": "code",
   "execution_count": 4,
   "metadata": {},
   "outputs": [
    {
     "name": "stdout",
     "output_type": "stream",
     "text": [
      "                                                  genres      id  \\\n",
      "0      [{'id': 16, 'name': 'Animation'}, {'id': 35, '...     862   \n",
      "1      [{'id': 12, 'name': 'Adventure'}, {'id': 14, '...    8844   \n",
      "2      [{'id': 10749, 'name': 'Romance'}, {'id': 35, ...   15602   \n",
      "3      [{'id': 35, 'name': 'Comedy'}, {'id': 18, 'nam...   31357   \n",
      "4                         [{'id': 35, 'name': 'Comedy'}]   11862   \n",
      "...                                                  ...     ...   \n",
      "45461  [{'id': 18, 'name': 'Drama'}, {'id': 10751, 'n...  439050   \n",
      "45462                      [{'id': 18, 'name': 'Drama'}]  111109   \n",
      "45463  [{'id': 28, 'name': 'Action'}, {'id': 18, 'nam...   67758   \n",
      "45464                                                 []  227506   \n",
      "45465                                                 []  461257   \n",
      "\n",
      "      original_language                                           overview  \\\n",
      "0                    en  Led by Woody, Andy's toys live happily in his ...   \n",
      "1                    en  When siblings Judy and Peter discover an encha...   \n",
      "2                    en  A family wedding reignites the ancient feud be...   \n",
      "3                    en  Cheated on, mistreated and stepped on, the wom...   \n",
      "4                    en  Just when George Banks has recovered from his ...   \n",
      "...                 ...                                                ...   \n",
      "45461                fa        Rising and falling between a man and woman.   \n",
      "45462                tl  An artist struggles to finish his work while a...   \n",
      "45463                en  When one of her hits goes wrong, a professiona...   \n",
      "45464                en  In a small town live two brothers, one a minis...   \n",
      "45465                en  50 years after decriminalisation of homosexual...   \n",
      "\n",
      "      popularity release_date      revenue runtime  \\\n",
      "0      21.946943   1995-10-30  373554033.0    81.0   \n",
      "1      17.015539   1995-12-15  262797249.0   104.0   \n",
      "2        11.7129   1995-12-22          0.0   101.0   \n",
      "3       3.859495   1995-12-22   81452156.0   127.0   \n",
      "4       8.387519   1995-02-10   76578911.0   106.0   \n",
      "...          ...          ...          ...     ...   \n",
      "45461   0.072051                       0.0    90.0   \n",
      "45462   0.178241   2011-11-17          0.0   360.0   \n",
      "45463   0.903007   2003-08-01          0.0    90.0   \n",
      "45464   0.003503   1917-10-21          0.0    87.0   \n",
      "45465   0.163015   2017-06-09          0.0    75.0   \n",
      "\n",
      "                             title vote_average    preprocessed_title  \\\n",
      "0                        Toy Story          7.7             toy story   \n",
      "1                          Jumanji          6.9               jumanji   \n",
      "2                 Grumpier Old Men          6.5      grumpier old men   \n",
      "3                Waiting to Exhale          6.1        waiting exhale   \n",
      "4      Father of the Bride Part II          5.7  father bride part ii   \n",
      "...                            ...          ...                   ...   \n",
      "45461                       Subdue          4.0                subdue   \n",
      "45462          Century of Birthing          9.0      century birthing   \n",
      "45463                     Betrayal          3.8              betrayal   \n",
      "45464             Satan Triumphant          0.0      satan triumphant   \n",
      "45465                     Queerama          0.0              queerama   \n",
      "\n",
      "      Release Date Duplicate  \n",
      "0                        NaN  \n",
      "1                        NaN  \n",
      "2                        NaN  \n",
      "3                        NaN  \n",
      "4                        NaN  \n",
      "...                      ...  \n",
      "45461                    NaN  \n",
      "45462                    NaN  \n",
      "45463             2003-08-01  \n",
      "45464                    NaN  \n",
      "45465                    NaN  \n",
      "\n",
      "[45466 rows x 12 columns]\n"
     ]
    }
   ],
   "source": [
    "# iterate through the movie titles and add release dates to duplicates\n",
    "for index, row in data_df.iterrows():\n",
    "    movie_title = row['title']\n",
    "    release_date = row['release_date']\n",
    "    duplicates = data_df[data_df['title'] == movie_title]\n",
    "    \n",
    "    if len(duplicates) > 1:\n",
    "        for dup_index, dup_row in duplicates.iterrows():\n",
    "            data_df.at[dup_index, 'Release Date Duplicate'] = release_date\n",
    "\n",
    "# show the resulting dataframe\n",
    "print(data_df)"
   ]
  },
  {
   "attachments": {},
   "cell_type": "markdown",
   "metadata": {},
   "source": [
    "## Compute the TF-IDF matrix"
   ]
  },
  {
   "cell_type": "code",
   "execution_count": 5,
   "metadata": {},
   "outputs": [],
   "source": [
    "from sklearn.feature_extraction.text import TfidfVectorizer\n",
    "\n",
    "vectorizer = TfidfVectorizer()\n",
    "tfidf_matrix = vectorizer.fit_transform(data_df['title'])"
   ]
  },
  {
   "attachments": {},
   "cell_type": "markdown",
   "metadata": {},
   "source": [
    "## Compute the cosine similarity matrix"
   ]
  },
  {
   "cell_type": "code",
   "execution_count": 6,
   "metadata": {},
   "outputs": [],
   "source": [
    "from sklearn.metrics.pairwise import cosine_similarity\n",
    "\n",
    "cosine_sim_matrix = cosine_similarity(tfidf_matrix, tfidf_matrix)"
   ]
  },
  {
   "attachments": {},
   "cell_type": "markdown",
   "metadata": {},
   "source": [
    "## Define a function that returns the top 5 most similar movies"
   ]
  },
  {
   "cell_type": "code",
   "execution_count": 7,
   "metadata": {},
   "outputs": [],
   "source": [
    "def get_top_similar_movies(movie_index, cosine_sim_matrix, df):\n",
    "    sim_scores = list(enumerate(cosine_sim_matrix[movie_index]))\n",
    "    sim_scores = sorted(sim_scores, key=lambda x: x[1], reverse=True)\n",
    "    sim_scores = sim_scores[1:6]\n",
    "    movie_indices = [i[0] for i in sim_scores]\n",
    "    return df.iloc[movie_indices]['title']"
   ]
  },
  {
   "cell_type": "code",
   "execution_count": 8,
   "metadata": {},
   "outputs": [],
   "source": [
    "def get_top_5_similar_movies(row:pd.Series) -> pd.Series:\n",
    "    \"\"\" \n",
    "    this function will return the 5 most similar movies than the one in te given row\n",
    "    \"\"\"\n",
    "    # Get the similarity scores for the current movie\n",
    "    similarity_scores = cosine_sim_matrix[row.name]\n",
    "\n",
    "    # Get the indices of the top 5 similar movies -> (6 because the movie of the line row will be included) -> in return select only the 5 last ones\n",
    "    top_5_indices = np.argpartition(-similarity_scores, range(6))[:6]\n",
    "    #get the ids of the movies (ids to be sure it is unique) (duplicates in movie title)\n",
    "    top_5_ids = [data_df.iloc[i]['title'] for i in top_5_indices]\n",
    "\n",
    "    return pd.Series(top_5_ids[1:], index=['sim_movie_1', 'sim_movie_2', 'sim_movie_3', 'sim_movie_4', 'sim_movie_5'])\n"
   ]
  },
  {
   "cell_type": "code",
   "execution_count": 9,
   "metadata": {},
   "outputs": [],
   "source": [
    "data_df[['sim_movie_1', 'sim_movie_2', 'sim_movie_3', 'sim_movie_4', 'sim_movie_5']] = data_df.apply(get_top_5_similar_movies, axis=1)"
   ]
  },
  {
   "attachments": {},
   "cell_type": "markdown",
   "metadata": {},
   "source": [
    "## Print the top 5 similar movies"
   ]
  },
  {
   "cell_type": "code",
   "execution_count": null,
   "metadata": {},
   "outputs": [
    {
     "data": {
      "text/plain": [
       "\"\\nfor i, row in data_df.iterrows():\\n    print('Top 5 similar movies for', row['title'], ':')\\n    print(get_top_similar_movies(i, cosine_sim_matrix, data_df))\\n    print('\\n')\\n\""
      ]
     },
     "execution_count": 50,
     "metadata": {},
     "output_type": "execute_result"
    }
   ],
   "source": [
    "\"\"\"\n",
    "for i, row in data_df.iterrows():\n",
    "    print('Top 5 similar movies for', row['title'], ':')\n",
    "    print(get_top_similar_movies(i, cosine_sim_matrix, data_df))\n",
    "    print('\\n')\n",
    "\"\"\""
   ]
  },
  {
   "attachments": {},
   "cell_type": "markdown",
   "metadata": {},
   "source": [
    "## Save Data in CSV file"
   ]
  },
  {
   "cell_type": "code",
   "execution_count": 10,
   "metadata": {},
   "outputs": [
    {
     "name": "stderr",
     "output_type": "stream",
     "text": [
      "C:\\Users\\Augustin\\AppData\\Local\\Temp\\ipykernel_8744\\1357900905.py:2: FutureWarning: As the xlwt package is no longer maintained, the xlwt engine will be removed in a future version of pandas. This is the only engine in pandas that supports writing in the xls format. Install openpyxl and write to an xlsx file instead. You can set the option io.excel.xls.writer to 'xlwt' to silence this warning. While this option is deprecated and will also raise a warning, it can be globally set and the warning suppressed.\n",
      "  data_df.to_excel('raw_data1.xls', index=False)\n"
     ]
    }
   ],
   "source": [
    "data_df.to_csv('raw_data1.csv', index=False)\n",
    "data_df.to_excel('raw_data1.xls', index=False)"
   ]
  },
  {
   "cell_type": "code",
   "execution_count": null,
   "metadata": {},
   "outputs": [
    {
     "name": "stderr",
     "output_type": "stream",
     "text": [
      "C:\\Users\\Augustin\\AppData\\Local\\Temp\\ipykernel_17028\\873730437.py:1: DtypeWarning: Columns (10) have mixed types. Specify dtype option on import or set low_memory=False.\n",
      "  df_test = pd.read_csv('raw_data.csv')\n"
     ]
    },
    {
     "data": {
      "text/html": [
       "<div>\n",
       "<style scoped>\n",
       "    .dataframe tbody tr th:only-of-type {\n",
       "        vertical-align: middle;\n",
       "    }\n",
       "\n",
       "    .dataframe tbody tr th {\n",
       "        vertical-align: top;\n",
       "    }\n",
       "\n",
       "    .dataframe thead th {\n",
       "        text-align: right;\n",
       "    }\n",
       "</style>\n",
       "<table border=\"1\" class=\"dataframe\">\n",
       "  <thead>\n",
       "    <tr style=\"text-align: right;\">\n",
       "      <th></th>\n",
       "      <th>adult</th>\n",
       "      <th>belongs_to_collection</th>\n",
       "      <th>budget</th>\n",
       "      <th>genres</th>\n",
       "      <th>homepage</th>\n",
       "      <th>id</th>\n",
       "      <th>imdb_id</th>\n",
       "      <th>original_language</th>\n",
       "      <th>original_title</th>\n",
       "      <th>overview</th>\n",
       "      <th>...</th>\n",
       "      <th>release_date</th>\n",
       "      <th>revenue</th>\n",
       "      <th>runtime</th>\n",
       "      <th>spoken_languages</th>\n",
       "      <th>status</th>\n",
       "      <th>tagline</th>\n",
       "      <th>title</th>\n",
       "      <th>video</th>\n",
       "      <th>vote_average</th>\n",
       "      <th>vote_count</th>\n",
       "    </tr>\n",
       "  </thead>\n",
       "  <tbody>\n",
       "    <tr>\n",
       "      <th>0</th>\n",
       "      <td>False</td>\n",
       "      <td>{'id': 10194, 'name': 'Toy Story Collection', ...</td>\n",
       "      <td>30000000</td>\n",
       "      <td>[{'id': 16, 'name': 'Animation'}, {'id': 35, '...</td>\n",
       "      <td>http://toystory.disney.com/toy-story</td>\n",
       "      <td>862</td>\n",
       "      <td>tt0114709</td>\n",
       "      <td>en</td>\n",
       "      <td>toy story</td>\n",
       "      <td>Led by Woody, Andy's toys live happily in his ...</td>\n",
       "      <td>...</td>\n",
       "      <td>1995-10-30</td>\n",
       "      <td>373554033.0</td>\n",
       "      <td>81.0</td>\n",
       "      <td>[{'iso_639_1': 'en', 'name': 'English'}]</td>\n",
       "      <td>Released</td>\n",
       "      <td>NaN</td>\n",
       "      <td>Toy Story</td>\n",
       "      <td>False</td>\n",
       "      <td>7.7</td>\n",
       "      <td>5415.0</td>\n",
       "    </tr>\n",
       "    <tr>\n",
       "      <th>1</th>\n",
       "      <td>False</td>\n",
       "      <td>NaN</td>\n",
       "      <td>65000000</td>\n",
       "      <td>[{'id': 12, 'name': 'Adventure'}, {'id': 14, '...</td>\n",
       "      <td>NaN</td>\n",
       "      <td>8844</td>\n",
       "      <td>tt0113497</td>\n",
       "      <td>en</td>\n",
       "      <td>jumanji</td>\n",
       "      <td>When siblings Judy and Peter discover an encha...</td>\n",
       "      <td>...</td>\n",
       "      <td>1995-12-15</td>\n",
       "      <td>262797249.0</td>\n",
       "      <td>104.0</td>\n",
       "      <td>[{'iso_639_1': 'en', 'name': 'English'}, {'iso...</td>\n",
       "      <td>Released</td>\n",
       "      <td>Roll the dice and unleash the excitement!</td>\n",
       "      <td>Jumanji</td>\n",
       "      <td>False</td>\n",
       "      <td>6.9</td>\n",
       "      <td>2413.0</td>\n",
       "    </tr>\n",
       "    <tr>\n",
       "      <th>2</th>\n",
       "      <td>False</td>\n",
       "      <td>{'id': 119050, 'name': 'Grumpy Old Men Collect...</td>\n",
       "      <td>0</td>\n",
       "      <td>[{'id': 10749, 'name': 'Romance'}, {'id': 35, ...</td>\n",
       "      <td>NaN</td>\n",
       "      <td>15602</td>\n",
       "      <td>tt0113228</td>\n",
       "      <td>en</td>\n",
       "      <td>grumpier old men</td>\n",
       "      <td>A family wedding reignites the ancient feud be...</td>\n",
       "      <td>...</td>\n",
       "      <td>1995-12-22</td>\n",
       "      <td>0.0</td>\n",
       "      <td>101.0</td>\n",
       "      <td>[{'iso_639_1': 'en', 'name': 'English'}]</td>\n",
       "      <td>Released</td>\n",
       "      <td>Still Yelling. Still Fighting. Still Ready for...</td>\n",
       "      <td>Grumpier Old Men</td>\n",
       "      <td>False</td>\n",
       "      <td>6.5</td>\n",
       "      <td>92.0</td>\n",
       "    </tr>\n",
       "    <tr>\n",
       "      <th>3</th>\n",
       "      <td>False</td>\n",
       "      <td>NaN</td>\n",
       "      <td>16000000</td>\n",
       "      <td>[{'id': 35, 'name': 'Comedy'}, {'id': 18, 'nam...</td>\n",
       "      <td>NaN</td>\n",
       "      <td>31357</td>\n",
       "      <td>tt0114885</td>\n",
       "      <td>en</td>\n",
       "      <td>waiting exhale</td>\n",
       "      <td>Cheated on, mistreated and stepped on, the wom...</td>\n",
       "      <td>...</td>\n",
       "      <td>1995-12-22</td>\n",
       "      <td>81452156.0</td>\n",
       "      <td>127.0</td>\n",
       "      <td>[{'iso_639_1': 'en', 'name': 'English'}]</td>\n",
       "      <td>Released</td>\n",
       "      <td>Friends are the people who let you be yourself...</td>\n",
       "      <td>Waiting to Exhale</td>\n",
       "      <td>False</td>\n",
       "      <td>6.1</td>\n",
       "      <td>34.0</td>\n",
       "    </tr>\n",
       "    <tr>\n",
       "      <th>4</th>\n",
       "      <td>False</td>\n",
       "      <td>{'id': 96871, 'name': 'Father of the Bride Col...</td>\n",
       "      <td>0</td>\n",
       "      <td>[{'id': 35, 'name': 'Comedy'}]</td>\n",
       "      <td>NaN</td>\n",
       "      <td>11862</td>\n",
       "      <td>tt0113041</td>\n",
       "      <td>en</td>\n",
       "      <td>father bride part ii</td>\n",
       "      <td>Just when George Banks has recovered from his ...</td>\n",
       "      <td>...</td>\n",
       "      <td>1995-02-10</td>\n",
       "      <td>76578911.0</td>\n",
       "      <td>106.0</td>\n",
       "      <td>[{'iso_639_1': 'en', 'name': 'English'}]</td>\n",
       "      <td>Released</td>\n",
       "      <td>Just When His World Is Back To Normal... He's ...</td>\n",
       "      <td>Father of the Bride Part II</td>\n",
       "      <td>False</td>\n",
       "      <td>5.7</td>\n",
       "      <td>173.0</td>\n",
       "    </tr>\n",
       "  </tbody>\n",
       "</table>\n",
       "<p>5 rows × 24 columns</p>\n",
       "</div>"
      ],
      "text/plain": [
       "   adult                              belongs_to_collection    budget  \\\n",
       "0  False  {'id': 10194, 'name': 'Toy Story Collection', ...  30000000   \n",
       "1  False                                                NaN  65000000   \n",
       "2  False  {'id': 119050, 'name': 'Grumpy Old Men Collect...         0   \n",
       "3  False                                                NaN  16000000   \n",
       "4  False  {'id': 96871, 'name': 'Father of the Bride Col...         0   \n",
       "\n",
       "                                              genres  \\\n",
       "0  [{'id': 16, 'name': 'Animation'}, {'id': 35, '...   \n",
       "1  [{'id': 12, 'name': 'Adventure'}, {'id': 14, '...   \n",
       "2  [{'id': 10749, 'name': 'Romance'}, {'id': 35, ...   \n",
       "3  [{'id': 35, 'name': 'Comedy'}, {'id': 18, 'nam...   \n",
       "4                     [{'id': 35, 'name': 'Comedy'}]   \n",
       "\n",
       "                               homepage     id    imdb_id original_language  \\\n",
       "0  http://toystory.disney.com/toy-story    862  tt0114709                en   \n",
       "1                                   NaN   8844  tt0113497                en   \n",
       "2                                   NaN  15602  tt0113228                en   \n",
       "3                                   NaN  31357  tt0114885                en   \n",
       "4                                   NaN  11862  tt0113041                en   \n",
       "\n",
       "         original_title                                           overview  \\\n",
       "0             toy story  Led by Woody, Andy's toys live happily in his ...   \n",
       "1               jumanji  When siblings Judy and Peter discover an encha...   \n",
       "2      grumpier old men  A family wedding reignites the ancient feud be...   \n",
       "3        waiting exhale  Cheated on, mistreated and stepped on, the wom...   \n",
       "4  father bride part ii  Just when George Banks has recovered from his ...   \n",
       "\n",
       "   ... release_date      revenue runtime  \\\n",
       "0  ...   1995-10-30  373554033.0    81.0   \n",
       "1  ...   1995-12-15  262797249.0   104.0   \n",
       "2  ...   1995-12-22          0.0   101.0   \n",
       "3  ...   1995-12-22   81452156.0   127.0   \n",
       "4  ...   1995-02-10   76578911.0   106.0   \n",
       "\n",
       "                                    spoken_languages    status  \\\n",
       "0           [{'iso_639_1': 'en', 'name': 'English'}]  Released   \n",
       "1  [{'iso_639_1': 'en', 'name': 'English'}, {'iso...  Released   \n",
       "2           [{'iso_639_1': 'en', 'name': 'English'}]  Released   \n",
       "3           [{'iso_639_1': 'en', 'name': 'English'}]  Released   \n",
       "4           [{'iso_639_1': 'en', 'name': 'English'}]  Released   \n",
       "\n",
       "                                             tagline  \\\n",
       "0                                                NaN   \n",
       "1          Roll the dice and unleash the excitement!   \n",
       "2  Still Yelling. Still Fighting. Still Ready for...   \n",
       "3  Friends are the people who let you be yourself...   \n",
       "4  Just When His World Is Back To Normal... He's ...   \n",
       "\n",
       "                         title  video vote_average vote_count  \n",
       "0                    Toy Story  False          7.7     5415.0  \n",
       "1                      Jumanji  False          6.9     2413.0  \n",
       "2             Grumpier Old Men  False          6.5       92.0  \n",
       "3            Waiting to Exhale  False          6.1       34.0  \n",
       "4  Father of the Bride Part II  False          5.7      173.0  \n",
       "\n",
       "[5 rows x 24 columns]"
      ]
     },
     "execution_count": 28,
     "metadata": {},
     "output_type": "execute_result"
    }
   ],
   "source": [
    "df_test = pd.read_csv('raw_data.csv')\n",
    "df_test.head()"
   ]
  }
 ],
 "metadata": {
  "kernelspec": {
   "display_name": "Python 3",
   "language": "python",
   "name": "python3"
  },
  "language_info": {
   "codemirror_mode": {
    "name": "ipython",
    "version": 3
   },
   "file_extension": ".py",
   "mimetype": "text/x-python",
   "name": "python",
   "nbconvert_exporter": "python",
   "pygments_lexer": "ipython3",
   "version": "3.11.1"
  },
  "orig_nbformat": 4
 },
 "nbformat": 4,
 "nbformat_minor": 2
}
